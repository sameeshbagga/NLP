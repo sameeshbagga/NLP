{
  "nbformat": 4,
  "nbformat_minor": 0,
  "metadata": {
    "colab": {
      "provenance": []
    },
    "kernelspec": {
      "name": "python3",
      "display_name": "Python 3"
    },
    "language_info": {
      "name": "python"
    }
  },
  "cells": [
    {
      "cell_type": "code",
      "execution_count": 1,
      "metadata": {
        "colab": {
          "base_uri": "https://localhost:8080/"
        },
        "id": "WmnYmdsUixvU",
        "outputId": "1ab34cb7-9237-43c6-b2de-f92dea3da468"
      },
      "outputs": [
        {
          "output_type": "stream",
          "name": "stdout",
          "text": [
            "Requirement already satisfied: nltk in /usr/local/lib/python3.10/dist-packages (3.8.1)\n",
            "Requirement already satisfied: click in /usr/local/lib/python3.10/dist-packages (from nltk) (8.1.7)\n",
            "Requirement already satisfied: joblib in /usr/local/lib/python3.10/dist-packages (from nltk) (1.3.2)\n",
            "Requirement already satisfied: regex>=2021.8.3 in /usr/local/lib/python3.10/dist-packages (from nltk) (2023.12.25)\n",
            "Requirement already satisfied: tqdm in /usr/local/lib/python3.10/dist-packages (from nltk) (4.66.1)\n"
          ]
        },
        {
          "output_type": "stream",
          "name": "stderr",
          "text": [
            "[nltk_data] Downloading package punkt to /root/nltk_data...\n",
            "[nltk_data]   Unzipping tokenizers/punkt.zip.\n",
            "[nltk_data] Downloading package movie_reviews to /root/nltk_data...\n",
            "[nltk_data]   Unzipping corpora/movie_reviews.zip.\n"
          ]
        },
        {
          "output_type": "execute_result",
          "data": {
            "text/plain": [
              "True"
            ]
          },
          "metadata": {},
          "execution_count": 1
        }
      ],
      "source": [
        "!pip install nltk\n",
        "import nltk\n",
        "nltk.download('punkt')\n",
        "import pandas as pd\n",
        "nltk.download('movie_reviews')"
      ]
    },
    {
      "cell_type": "code",
      "source": [
        "from nltk.corpus import movie_reviews\n",
        "review_para = movie_reviews.paras()[2]\n",
        "review = [\" \".join(i) for i in review_para]\n",
        "review = ' '.join(review[0:15])"
      ],
      "metadata": {
        "id": "Y6f7zb5Pi_8S"
      },
      "execution_count": 2,
      "outputs": []
    },
    {
      "cell_type": "code",
      "source": [
        "review"
      ],
      "metadata": {
        "colab": {
          "base_uri": "https://localhost:8080/",
          "height": 109
        },
        "id": "Ra7NRjGqjP2g",
        "outputId": "d02a26e9-79a3-4593-9468-5f422a6a6978"
      },
      "execution_count": 3,
      "outputs": [
        {
          "output_type": "execute_result",
          "data": {
            "text/plain": [
              "\"it is movies like these that make a jaded movie viewer thankful for the invention of the timex indiglo watch . based on the late 1960 ' s television show by the same name , the mod squad tells the tale of three reformed criminals under the employ of the police to go undercover . however , things go wrong as evidence gets stolen and they are immediately under suspicion . of course , the ads make it seem like so much more . quick cuts , cool music , claire dane ' s nice hair and cute outfits , car chases , stuff blowing up , and the like . sounds like a cool movie , does it not ? after the first fifteen minutes , it quickly becomes apparent that it is not . the mod squad is certainly a slick looking production , complete with nice hair and costumes , but that simply isn ' t enough . the film is best described as a cross between an hour - long cop show and a music video , both stretched out into the span of an hour and a half . and with it comes every single clich ? . it doesn ' t really matter that the film is based on a television show , as most of the plot elements have been recycled from everything we ' ve already seen . the characters and acting is nothing spectacular , sometimes even bordering on wooden . claire danes and omar epps deliver their lines as if they are bored , which really transfers onto the audience . the only one to escape relatively unscathed is giovanni ribisi , who plays the resident crazy man , ultimately being the only thing worth watching .\""
            ],
            "application/vnd.google.colaboratory.intrinsic+json": {
              "type": "string"
            }
          },
          "metadata": {},
          "execution_count": 3
        }
      ]
    },
    {
      "cell_type": "code",
      "source": [
        "from nltk.tokenize import RegexpTokenizer\n",
        "tk = RegexpTokenizer(\"\\w+\")\n",
        "tokens = tk.tokenize(review)\n",
        "str(tokens[:20])"
      ],
      "metadata": {
        "colab": {
          "base_uri": "https://localhost:8080/",
          "height": 36
        },
        "id": "vz6u7YWWjTfs",
        "outputId": "89595fed-7d9a-4741-9191-c90bd1ccd9e8"
      },
      "execution_count": 4,
      "outputs": [
        {
          "output_type": "execute_result",
          "data": {
            "text/plain": [
              "\"['it', 'is', 'movies', 'like', 'these', 'that', 'make', 'a', 'jaded', 'movie', 'viewer', 'thankful', 'for', 'the', 'invention', 'of', 'the', 'timex', 'indiglo', 'watch']\""
            ],
            "application/vnd.google.colaboratory.intrinsic+json": {
              "type": "string"
            }
          },
          "metadata": {},
          "execution_count": 4
        }
      ]
    },
    {
      "cell_type": "code",
      "source": [
        "nltk.download('stopwords')\n",
        "from nltk.corpus import stopwords\n",
        "stop_words = stopwords.words('english')\n",
        "print(stop_words[:15])"
      ],
      "metadata": {
        "colab": {
          "base_uri": "https://localhost:8080/"
        },
        "id": "ufYbghUejUjB",
        "outputId": "3cd2be7f-d902-44c8-efa0-350cec5d481e"
      },
      "execution_count": 5,
      "outputs": [
        {
          "output_type": "stream",
          "name": "stdout",
          "text": [
            "['i', 'me', 'my', 'myself', 'we', 'our', 'ours', 'ourselves', 'you', \"you're\", \"you've\", \"you'll\", \"you'd\", 'your', 'yours']\n"
          ]
        },
        {
          "output_type": "stream",
          "name": "stderr",
          "text": [
            "[nltk_data] Downloading package stopwords to /root/nltk_data...\n",
            "[nltk_data]   Unzipping corpora/stopwords.zip.\n"
          ]
        }
      ]
    },
    {
      "cell_type": "code",
      "source": [
        "len(stop_words)"
      ],
      "metadata": {
        "colab": {
          "base_uri": "https://localhost:8080/"
        },
        "id": "TYD61jX9jUw7",
        "outputId": "ff694235-6350-4273-961a-1c373ed96f37"
      },
      "execution_count": 6,
      "outputs": [
        {
          "output_type": "execute_result",
          "data": {
            "text/plain": [
              "179"
            ]
          },
          "metadata": {},
          "execution_count": 6
        }
      ]
    },
    {
      "cell_type": "code",
      "source": [
        "if type(stop_words)==list:\n",
        "  stop_words.append('watch')\n",
        "  stop_words.append('sorta')\n",
        "  stop_words.append(':')\n",
        "  stop_words.append(',')\n",
        "  stop_words.remove('it')\n",
        "  stop_words = set(stop_words)\n",
        "  print('No of stop words: ',len(stop_words))\n",
        "token_stop_words = [token for token in tokens if not token in stop_words]"
      ],
      "metadata": {
        "colab": {
          "base_uri": "https://localhost:8080/"
        },
        "id": "Ytqu2PUrjbCn",
        "outputId": "a1418c34-eae5-4c07-ca5d-f95da106f796"
      },
      "execution_count": 7,
      "outputs": [
        {
          "output_type": "stream",
          "name": "stdout",
          "text": [
            "No of stop words:  182\n"
          ]
        }
      ]
    },
    {
      "cell_type": "code",
      "source": [
        "str(stop_words)"
      ],
      "metadata": {
        "colab": {
          "base_uri": "https://localhost:8080/",
          "height": 109
        },
        "id": "pnWCXS-Sjdnv",
        "outputId": "2ca3e25e-6bf6-43f2-c6fc-9d6d2b2bfc4a"
      },
      "execution_count": 8,
      "outputs": [
        {
          "output_type": "execute_result",
          "data": {
            "text/plain": [
              "'{\\'in\\', \\'me\\', \\'do\\', \\'out\\', \\'theirs\\', \\'just\\', \\'hadn\\', \\'yourselves\\', \"hasn\\'t\", \\'shan\\', \\'too\\', \\'this\\', \"won\\'t\", \\'doing\\', \\'because\\', \\'had\\', \\':\\', \\'so\\', \\'s\\', \\'by\\', \\'have\\', \\'only\\', \\'the\\', \\'as\\', \\'from\\', \\'are\\', \\'been\\', \\'very\\', \\'ve\\', \\'needn\\', \\'yours\\', \\'against\\', \\'ll\\', \\'ain\\', \\'your\\', \\'has\\', \\'aren\\', \\'with\\', \\'those\\', \\'t\\', \\'doesn\\', \"wouldn\\'t\", \\'an\\', \\'few\\', \"needn\\'t\", \\'mightn\\', \\'wouldn\\', \\',\\', \\'more\\', \\'will\\', \\'herself\\', \\'under\\', \\'isn\\', \\'he\\', \\'won\\', \\'watch\\', \"couldn\\'t\", \\'below\\', \\'own\\', \\'o\\', \"aren\\'t\", \\'again\\', \\'ours\\', \\'for\\', \\'off\\', \\'while\\', \\'then\\', \\'here\\', \\'couldn\\', \\'some\\', \\'can\\', \\'did\\', \"it\\'s\", \\'she\\', \\'they\\', \\'were\\', \\'a\\', \\'into\\', \\'all\\', \\'before\\', \\'these\\', \\'where\\', \\'about\\', \\'no\\', \\'at\\', \"weren\\'t\", \\'most\\', \\'than\\', \\'once\\', \\'was\\', \"don\\'t\", \\'you\\', \\'what\\', \\'between\\', \\'re\\', \\'and\\', \\'our\\', \\'my\\', \\'its\\', \\'up\\', \\'themselves\\', \\'of\\', \"shouldn\\'t\", \\'further\\', \\'wasn\\', \\'y\\', \\'itself\\', \\'m\\', \\'now\\', \\'we\\', \"didn\\'t\", \\'if\\', \\'ma\\', \\'her\\', \\'i\\', \\'them\\', \\'each\\', \\'am\\', \\'does\\', \\'yourself\\', \\'himself\\', \\'above\\', \"you\\'ll\", \\'not\\', \\'haven\\', \\'when\\', \\'sorta\\', \"isn\\'t\", \\'shouldn\\', \\'d\\', \\'ourselves\\', \"mightn\\'t\", \\'hers\\', \"you\\'re\", \\'be\\', \\'such\\', \\'should\\', \\'through\\', \\'being\\', \\'weren\\', \\'nor\\', \\'which\\', \\'there\\', \\'didn\\', \\'same\\', \\'how\\', \"you\\'ve\", \\'on\\', \\'over\\', \\'his\\', \\'but\\', \\'whom\\', \\'after\\', \"mustn\\'t\", \\'both\\', \\'having\\', \\'until\\', \\'that\\', \\'why\\', \"should\\'ve\", \"haven\\'t\", \\'don\\', \"hadn\\'t\", \\'myself\\', \"wasn\\'t\", \\'their\\', \"shan\\'t\", \"that\\'ll\", \\'other\\', \"doesn\\'t\", \\'hasn\\', \\'any\\', \\'to\\', \"you\\'d\", \"she\\'s\", \\'who\\', \\'during\\', \\'or\\', \\'mustn\\', \\'him\\', \\'is\\', \\'down\\'}'"
            ],
            "application/vnd.google.colaboratory.intrinsic+json": {
              "type": "string"
            }
          },
          "metadata": {},
          "execution_count": 8
        }
      ]
    },
    {
      "cell_type": "code",
      "source": [],
      "metadata": {
        "id": "kQP0SOYNjhpD"
      },
      "execution_count": null,
      "outputs": []
    }
  ]
}