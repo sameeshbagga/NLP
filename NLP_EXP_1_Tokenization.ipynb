{
  "nbformat": 4,
  "nbformat_minor": 0,
  "metadata": {
    "colab": {
      "provenance": []
    },
    "kernelspec": {
      "name": "python3",
      "display_name": "Python 3"
    },
    "language_info": {
      "name": "python"
    }
  },
  "cells": [
    {
      "cell_type": "code",
      "execution_count": 1,
      "metadata": {
        "colab": {
          "base_uri": "https://localhost:8080/"
        },
        "id": "Iw1ZhlW2fA9d",
        "outputId": "9ddcb407-6937-487b-9114-f9de40bd2d22"
      },
      "outputs": [
        {
          "output_type": "stream",
          "name": "stderr",
          "text": [
            "[nltk_data] Downloading package punkt to /root/nltk_data...\n",
            "[nltk_data]   Unzipping tokenizers/punkt.zip.\n"
          ]
        }
      ],
      "source": [
        "import nltk\n",
        "nltk.download('punkt')\n",
        "from nltk import word_tokenize, sent_tokenize, RegexpTokenizer\n",
        "\n",
        "text = \"Hello world! It's a beautiful day. Let's go for a walk.\""
      ]
    },
    {
      "cell_type": "code",
      "source": [
        "# Word tokenization\n",
        "word_tokens = word_tokenize(text)\n",
        "print(\"Word tokens:\", word_tokens)"
      ],
      "metadata": {
        "colab": {
          "base_uri": "https://localhost:8080/"
        },
        "id": "qSREemxafbSg",
        "outputId": "59e0e8b0-c6fc-4c21-bb91-50dbc608e809"
      },
      "execution_count": 2,
      "outputs": [
        {
          "output_type": "stream",
          "name": "stdout",
          "text": [
            "Word tokens: ['Hello', 'world', '!', 'It', \"'s\", 'a', 'beautiful', 'day', '.', 'Let', \"'s\", 'go', 'for', 'a', 'walk', '.']\n"
          ]
        }
      ]
    },
    {
      "cell_type": "code",
      "source": [
        "# Sentence tokenization\n",
        "sentence_tokens = sent_tokenize(text)\n",
        "print(\"Sentence tokens:\", sentence_tokens)"
      ],
      "metadata": {
        "colab": {
          "base_uri": "https://localhost:8080/"
        },
        "id": "l4ZJyA13fbPg",
        "outputId": "288f155d-19de-4ed7-f0bf-0f53dd0aa946"
      },
      "execution_count": 3,
      "outputs": [
        {
          "output_type": "stream",
          "name": "stdout",
          "text": [
            "Sentence tokens: ['Hello world!', \"It's a beautiful day.\", \"Let's go for a walk.\"]\n"
          ]
        }
      ]
    },
    {
      "cell_type": "code",
      "source": [
        "# Regular expression tokenizer\n",
        "custom_tokenizer = RegexpTokenizer(\"[\\w']{3,}\")\n",
        "custom_tokens = custom_tokenizer.tokenize(text)\n",
        "print(\"Custom tokens:\", custom_tokens)"
      ],
      "metadata": {
        "colab": {
          "base_uri": "https://localhost:8080/"
        },
        "id": "NMTh7AGNfbEI",
        "outputId": "a000b497-fe96-4fb0-ad63-991e3686268a"
      },
      "execution_count": 4,
      "outputs": [
        {
          "output_type": "stream",
          "name": "stdout",
          "text": [
            "Custom tokens: ['Hello', 'world', \"It's\", 'beautiful', 'day', \"Let's\", 'for', 'walk']\n"
          ]
        }
      ]
    },
    {
      "cell_type": "code",
      "source": [
        "# Split tokenizer\n",
        "split_tokens = text.split()\n",
        "print(\"Split tokens:\", split_tokens)"
      ],
      "metadata": {
        "colab": {
          "base_uri": "https://localhost:8080/"
        },
        "id": "sypiGABZZ5W5",
        "outputId": "8c326eee-1e54-4c6f-d04a-97aa5f01e9c4"
      },
      "execution_count": 5,
      "outputs": [
        {
          "output_type": "stream",
          "name": "stdout",
          "text": [
            "Split tokens: ['Hello', 'world!', \"It's\", 'a', 'beautiful', 'day.', \"Let's\", 'go', 'for', 'a', 'walk.']\n"
          ]
        }
      ]
    }
  ]
}