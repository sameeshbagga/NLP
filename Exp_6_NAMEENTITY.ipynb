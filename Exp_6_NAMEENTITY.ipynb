{
  "nbformat": 4,
  "nbformat_minor": 0,
  "metadata": {
    "colab": {
      "provenance": []
    },
    "kernelspec": {
      "name": "python3",
      "display_name": "Python 3"
    },
    "language_info": {
      "name": "python"
    }
  },
  "cells": [
    {
      "cell_type": "code",
      "execution_count": 15,
      "metadata": {
        "colab": {
          "base_uri": "https://localhost:8080/"
        },
        "id": "i0FHNF_hPZU7",
        "outputId": "31e8852a-0068-461c-954f-8464972dde64"
      },
      "outputs": [
        {
          "output_type": "stream",
          "name": "stdout",
          "text": [
            "Requirement already satisfied: nltk in /usr/local/lib/python3.10/dist-packages (3.8.1)\n",
            "Requirement already satisfied: click in /usr/local/lib/python3.10/dist-packages (from nltk) (8.1.7)\n",
            "Requirement already satisfied: joblib in /usr/local/lib/python3.10/dist-packages (from nltk) (1.3.2)\n",
            "Requirement already satisfied: regex>=2021.8.3 in /usr/local/lib/python3.10/dist-packages (from nltk) (2023.12.25)\n",
            "Requirement already satisfied: tqdm in /usr/local/lib/python3.10/dist-packages (from nltk) (4.66.2)\n"
          ]
        }
      ],
      "source": [
        "# Install NLTK\n",
        "!pip install nltk"
      ]
    },
    {
      "cell_type": "code",
      "source": [
        "# Import necessary libraries\n",
        "import nltk\n",
        "from nltk.tokenize import word_tokenize\n",
        "from nltk.tag import pos_tag\n",
        "from nltk.chunk import ne_chunk\n",
        "from collections import Counter"
      ],
      "metadata": {
        "id": "uhrA-R7QP7lj"
      },
      "execution_count": 16,
      "outputs": []
    },
    {
      "cell_type": "code",
      "source": [
        "# Download NLTK resources\n",
        "nltk.download('punkt')\n",
        "nltk.download('averaged_perceptron_tagger')\n",
        "nltk.download('maxent_ne_chunker')\n",
        "nltk.download('words')"
      ],
      "metadata": {
        "colab": {
          "base_uri": "https://localhost:8080/"
        },
        "id": "T0OCHCa2P8Vw",
        "outputId": "c8e7f69f-d939-4118-fae3-490dc9618edb"
      },
      "execution_count": 17,
      "outputs": [
        {
          "output_type": "stream",
          "name": "stderr",
          "text": [
            "[nltk_data] Downloading package punkt to /root/nltk_data...\n",
            "[nltk_data]   Package punkt is already up-to-date!\n",
            "[nltk_data] Downloading package averaged_perceptron_tagger to\n",
            "[nltk_data]     /root/nltk_data...\n",
            "[nltk_data]   Package averaged_perceptron_tagger is already up-to-\n",
            "[nltk_data]       date!\n",
            "[nltk_data] Downloading package maxent_ne_chunker to\n",
            "[nltk_data]     /root/nltk_data...\n",
            "[nltk_data]   Package maxent_ne_chunker is already up-to-date!\n",
            "[nltk_data] Downloading package words to /root/nltk_data...\n",
            "[nltk_data]   Package words is already up-to-date!\n"
          ]
        },
        {
          "output_type": "execute_result",
          "data": {
            "text/plain": [
              "True"
            ]
          },
          "metadata": {},
          "execution_count": 17
        }
      ]
    },
    {
      "cell_type": "code",
      "source": [
        "# Function to perform Named Entity Recognition (NER)\n",
        "def named_entity_recognition(text):\n",
        "    # Tokenize the text\n",
        "    words = word_tokenize(text)\n",
        "    # Perform POS tagging\n",
        "    tagged_words = pos_tag(words)\n",
        "    # Perform NER\n",
        "    named_entities = ne_chunk(tagged_words)\n",
        "    return named_entities"
      ],
      "metadata": {
        "id": "qbXfbFeDP-OH"
      },
      "execution_count": 18,
      "outputs": []
    },
    {
      "cell_type": "code",
      "source": [
        "# Function to extract main character from NER output\n",
        "def extract_main_character(named_entities):\n",
        "    person_counter = Counter()\n",
        "    # Iterate over each named entity\n",
        "    for entity in named_entities:\n",
        "        if isinstance(entity, nltk.tree.Tree) and entity.label() == 'PERSON':\n",
        "            # If the entity is a person, extract the person's name\n",
        "            person_name = ' '.join([word for word, tag in entity.leaves()])\n",
        "            person_counter[person_name] += 1\n",
        "    # Get the most common person (main character)\n",
        "    main_character = person_counter.most_common(1)[0][0]\n",
        "    return main_character"
      ],
      "metadata": {
        "id": "rghLH5CwRKNr"
      },
      "execution_count": 19,
      "outputs": []
    },
    {
      "cell_type": "code",
      "source": [
        "# Sample story for Named Entity Recognition\n",
        "story = \"\"\"\n",
        "Harry Potter is a series of fantasy novels written by British author J.K. Rowling.\n",
        "The novels chronicle the lives of a young wizard, Harry Potter, and his friends\n",
        "Hermione Granger and Ron Weasley, all of whom are students at Hogwarts School of\n",
        "Witchcraft and Wizardry. The main story arc concerns Harry's struggle against\n",
        "Lord Voldemort, a dark wizard who intends to become immortal, overthrow the\n",
        "wizard governing body known as the Ministry of Magic, and subjugate all wizards\n",
        "and Muggles (non-magical people).\"\"\""
      ],
      "metadata": {
        "id": "ZFUa6V-xQBzu"
      },
      "execution_count": 20,
      "outputs": []
    },
    {
      "cell_type": "code",
      "source": [
        "# Perform Named Entity Recognition\n",
        "named_entities = named_entity_recognition(story)"
      ],
      "metadata": {
        "id": "LJhmZ_b4RQ9o"
      },
      "execution_count": 21,
      "outputs": []
    },
    {
      "cell_type": "code",
      "source": [
        "# Extract main character\n",
        "main_character = extract_main_character(named_entities)\n",
        "print(\"Main character of the story:\", main_character)"
      ],
      "metadata": {
        "colab": {
          "base_uri": "https://localhost:8080/"
        },
        "id": "bilojn5bQCwZ",
        "outputId": "013f75b3-7c1f-4a30-9f3f-944eae72726b"
      },
      "execution_count": 22,
      "outputs": [
        {
          "output_type": "stream",
          "name": "stdout",
          "text": [
            "Main character of the story: Harry\n"
          ]
        }
      ]
    },
    {
      "cell_type": "code",
      "source": [],
      "metadata": {
        "id": "9O1CpfaSQovr"
      },
      "execution_count": 22,
      "outputs": []
    }
  ]
}