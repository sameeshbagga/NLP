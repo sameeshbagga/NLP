{
  "nbformat": 4,
  "nbformat_minor": 0,
  "metadata": {
    "colab": {
      "provenance": []
    },
    "kernelspec": {
      "name": "python3",
      "display_name": "Python 3"
    },
    "language_info": {
      "name": "python"
    }
  },
  "cells": [
    {
      "cell_type": "code",
      "execution_count": 1,
      "metadata": {
        "colab": {
          "base_uri": "https://localhost:8080/"
        },
        "id": "WF2KhQnB7EkP",
        "outputId": "b25e6e17-ed47-4024-f20a-13c6f9e49611"
      },
      "outputs": [
        {
          "output_type": "stream",
          "name": "stdout",
          "text": [
            "184\n"
          ]
        }
      ],
      "source": [
        "story = \"\"\"Maya, a wisp of a girl with paint-splattered overalls, stood before the five grumpy judges.\n",
        "Her hands trembled as they hovered over the \"Off-Limits\" button, a pulsating red orb daring her to take\n",
        "a chance. The annual Robo-Art competition was notorious for its malfunctions and meltdowns, but Maya's creation,\n",
        "Sparky, was different.\n",
        "Sparky, a toaster-shaped robot with mismatched wires, stood proudly beside her. Its single eye, a blinking LED,\n",
        "seemed to plead with the judges. Old Man Jenkins, the chief judge, scoffed. \"Another year, another hunk of junk.\"\n",
        "Ms. Lee, the stern robotics teacher, pursed her lips. But then, Maya pressed the button.\n",
        "Sparky whirred to life, its mismatched wires sparking harmlessly. A paintbrush sprouted from its top,\n",
        "dipping into a nearby palette. Then, with surprising grace, it began to paint. Gasps filled the room as\n",
        "swirling colors blossomed on the canvas, a vibrant galaxy taking shape. By the time Sparky finished, the\n",
        "judges were speechless. Even Old Man Jenkins had a hint of a smile. Maya, tears welling in her eyes, beamed.\n",
        "Maybe, just maybe, Sparky was a little bit special after all.\"\"\"\n",
        "\n",
        "print(len(story.split()))"
      ]
    },
    {
      "cell_type": "code",
      "source": [
        "import nltk\n",
        "\n",
        "nltk.download('punkt')\n",
        "nltk.download('averaged_perceptron_tagger')\n",
        "nltk.download('maxent_ne_chunker')\n",
        "nltk.download('words')"
      ],
      "metadata": {
        "colab": {
          "base_uri": "https://localhost:8080/"
        },
        "id": "0TiUbrEJ-XLa",
        "outputId": "d4641973-f4bf-44ff-c2c6-125d261b4d1d"
      },
      "execution_count": 2,
      "outputs": [
        {
          "output_type": "stream",
          "name": "stderr",
          "text": [
            "[nltk_data] Downloading package punkt to /root/nltk_data...\n",
            "[nltk_data]   Package punkt is already up-to-date!\n",
            "[nltk_data] Downloading package averaged_perceptron_tagger to\n",
            "[nltk_data]     /root/nltk_data...\n",
            "[nltk_data]   Package averaged_perceptron_tagger is already up-to-\n",
            "[nltk_data]       date!\n",
            "[nltk_data] Downloading package maxent_ne_chunker to\n",
            "[nltk_data]     /root/nltk_data...\n",
            "[nltk_data]   Package maxent_ne_chunker is already up-to-date!\n",
            "[nltk_data] Downloading package words to /root/nltk_data...\n",
            "[nltk_data]   Package words is already up-to-date!\n"
          ]
        },
        {
          "output_type": "execute_result",
          "data": {
            "text/plain": [
              "True"
            ]
          },
          "metadata": {},
          "execution_count": 2
        }
      ]
    },
    {
      "cell_type": "code",
      "source": [
        "sentences = nltk.sent_tokenize(story)\n",
        "characters = []\n",
        "for sent in sentences:\n",
        "    for chunk in nltk.ne_chunk(nltk.pos_tag(nltk.word_tokenize(sent))):\n",
        "        if hasattr(chunk, 'label') and chunk.label() == 'PERSON':\n",
        "            characters.extend(c[0] for c in chunk)"
      ],
      "metadata": {
        "id": "uRyK5lcs-XOJ"
      },
      "execution_count": 3,
      "outputs": []
    },
    {
      "cell_type": "code",
      "source": [
        "print(f\"Named Entities: {characters}\")\n",
        "print(f\"Characters: {set(characters)}\")"
      ],
      "metadata": {
        "colab": {
          "base_uri": "https://localhost:8080/"
        },
        "id": "2UlsydHk-XTJ",
        "outputId": "01c7336b-5f8a-4871-d2af-1f1e967ffb6d"
      },
      "execution_count": 4,
      "outputs": [
        {
          "output_type": "stream",
          "name": "stdout",
          "text": [
            "Named Entities: ['Maya', 'Jenkins', 'Lee', 'Maya', 'Gasps', 'Sparky', 'Old', 'Man', 'Jenkins', 'Sparky']\n",
            "Characters: {'Old', 'Man', 'Maya', 'Sparky', 'Jenkins', 'Lee', 'Gasps'}\n"
          ]
        }
      ]
    }
  ]
}