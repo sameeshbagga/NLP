{
  "nbformat": 4,
  "nbformat_minor": 0,
  "metadata": {
    "colab": {
      "provenance": []
    },
    "kernelspec": {
      "name": "python3",
      "display_name": "Python 3"
    },
    "language_info": {
      "name": "python"
    }
  },
  "cells": [
    {
      "cell_type": "code",
      "execution_count": 1,
      "metadata": {
        "id": "IzTOsMR8xCjR"
      },
      "outputs": [],
      "source": [
        "story=\"\"\"\n",
        "\n",
        "In a small village nestled between rolling hills and lush forests, there lived a young girl named Elara. She was known for her adventurous spirit and insatiable curiosity. Every evening, Elara would wander into the woods, seeking new discoveries and hidden treasures.\n",
        "\n",
        "One crisp autumn evening, as the sun dipped below the horizon, Elara stumbled upon a peculiar lantern nestled amidst the roots of an ancient oak tree. Its glow was mesmerizing, casting an ethereal light that danced among the shadows. Entranced by its beauty, Elara cautiously reached out and grasped the lantern.\n",
        "\n",
        "As her fingers brushed against its surface, a soft whisper echoed through the forest. Startled but undeterred, Elara tightened her grip on the lantern and continued deeper into the woods. With each step, the whispers grew louder, guiding her along a winding path she had never traversed before.\n",
        "\n",
        "Eventually, Elara emerged into a clearing bathed in moonlight. In the center stood a majestic fountain, its waters shimmering with a thousand hues. At the base of the fountain lay a golden key, glinting invitingly in the lantern's glow.\n",
        "\n",
        "Driven by curiosity, Elara reached for the key, her heart pounding with anticipation. As she touched it, the whispers crescendoed into a chorus of voices, revealing the fountain's secret.\n",
        "\n",
        "Legend had it that the fountain held the power to grant one wish to those pure of heart who possessed the key. With trembling hands, Elara inserted the key into the fountain's lock and made her wish.\n",
        "\n",
        "In an instant, the forest came alive with magic. Flowers bloomed with vibrant colors, birds sang melodies of joy, and the air shimmered with enchantment. Overwhelmed by the beauty surrounding her, Elara knew that her wish had been granted.\n",
        "\n",
        "With the lantern in hand and her heart full of wonder, Elara returned home, forever changed by her extraordinary adventure. From that day forward, she carried the lantern with her wherever she went, a constant reminder of the magic that lay just beyond the edge of the known world. And though her adventures would take her far and wide, the memory of that enchanted evening in the forest would always hold a special place in her heart.\"\"\"\n",
        "\n",
        "\n",
        "\n",
        "\n",
        "\n",
        "\n"
      ]
    },
    {
      "cell_type": "code",
      "source": [
        "import nltk\n",
        "from nltk import FreqDist\n",
        "\n",
        "nltk.download('punkt')\n",
        "nltk.download('averaged_perceptron_tagger')\n",
        "nltk.download('maxent_ne_chunker')\n",
        "nltk.download('words')"
      ],
      "metadata": {
        "colab": {
          "base_uri": "https://localhost:8080/"
        },
        "id": "3WO1NU6jxQt3",
        "outputId": "1c851b6b-fa08-4f9f-c963-5c6b2508b4c5"
      },
      "execution_count": 2,
      "outputs": [
        {
          "output_type": "stream",
          "name": "stderr",
          "text": [
            "[nltk_data] Downloading package punkt to /root/nltk_data...\n",
            "[nltk_data]   Unzipping tokenizers/punkt.zip.\n",
            "[nltk_data] Downloading package averaged_perceptron_tagger to\n",
            "[nltk_data]     /root/nltk_data...\n",
            "[nltk_data]   Unzipping taggers/averaged_perceptron_tagger.zip.\n",
            "[nltk_data] Downloading package maxent_ne_chunker to\n",
            "[nltk_data]     /root/nltk_data...\n",
            "[nltk_data]   Unzipping chunkers/maxent_ne_chunker.zip.\n",
            "[nltk_data] Downloading package words to /root/nltk_data...\n",
            "[nltk_data]   Unzipping corpora/words.zip.\n"
          ]
        },
        {
          "output_type": "execute_result",
          "data": {
            "text/plain": [
              "True"
            ]
          },
          "metadata": {},
          "execution_count": 2
        }
      ]
    },
    {
      "cell_type": "code",
      "source": [
        "sentences = nltk.sent_tokenize(story)\n",
        "sentences"
      ],
      "metadata": {
        "colab": {
          "base_uri": "https://localhost:8080/"
        },
        "id": "ET6f5AZMxk_n",
        "outputId": "52358181-5b3f-4c52-8ddf-140dc1984d72"
      },
      "execution_count": 6,
      "outputs": [
        {
          "output_type": "execute_result",
          "data": {
            "text/plain": [
              "[' \\n\\nIn a small village nestled between rolling hills and lush forests, there lived a young girl named Elara.',\n",
              " 'She was known for her adventurous spirit and insatiable curiosity.',\n",
              " 'Every evening, Elara would wander into the woods, seeking new discoveries and hidden treasures.',\n",
              " 'One crisp autumn evening, as the sun dipped below the horizon, Elara stumbled upon a peculiar lantern nestled amidst the roots of an ancient oak tree.',\n",
              " 'Its glow was mesmerizing, casting an ethereal light that danced among the shadows.',\n",
              " 'Entranced by its beauty, Elara cautiously reached out and grasped the lantern.',\n",
              " 'As her fingers brushed against its surface, a soft whisper echoed through the forest.',\n",
              " 'Startled but undeterred, Elara tightened her grip on the lantern and continued deeper into the woods.',\n",
              " 'With each step, the whispers grew louder, guiding her along a winding path she had never traversed before.',\n",
              " 'Eventually, Elara emerged into a clearing bathed in moonlight.',\n",
              " 'In the center stood a majestic fountain, its waters shimmering with a thousand hues.',\n",
              " \"At the base of the fountain lay a golden key, glinting invitingly in the lantern's glow.\",\n",
              " 'Driven by curiosity, Elara reached for the key, her heart pounding with anticipation.',\n",
              " \"As she touched it, the whispers crescendoed into a chorus of voices, revealing the fountain's secret.\",\n",
              " 'Legend had it that the fountain held the power to grant one wish to those pure of heart who possessed the key.',\n",
              " \"With trembling hands, Elara inserted the key into the fountain's lock and made her wish.\",\n",
              " 'In an instant, the forest came alive with magic.',\n",
              " 'Flowers bloomed with vibrant colors, birds sang melodies of joy, and the air shimmered with enchantment.',\n",
              " 'Overwhelmed by the beauty surrounding her, Elara knew that her wish had been granted.',\n",
              " 'With the lantern in hand and her heart full of wonder, Elara returned home, forever changed by her extraordinary adventure.',\n",
              " 'From that day forward, she carried the lantern with her wherever she went, a constant reminder of the magic that lay just beyond the edge of the known world.',\n",
              " 'And though her adventures would take her far and wide, the memory of that enchanted evening in the forest would always hold a special place in her heart.']"
            ]
          },
          "metadata": {},
          "execution_count": 6
        }
      ]
    },
    {
      "cell_type": "code",
      "source": [
        "characters = []\n",
        "for sent in sentences:\n",
        "    for chunk in nltk.ne_chunk(nltk.pos_tag(nltk.word_tokenize(sent))):\n",
        "        if hasattr(chunk, 'label') and chunk.label() == 'PERSON':\n",
        "            characters.extend(c[0] for c in chunk)\n",
        "print(f\"Characters: {characters}\")"
      ],
      "metadata": {
        "colab": {
          "base_uri": "https://localhost:8080/"
        },
        "id": "Y39oG1YmxYjI",
        "outputId": "1e4c1f94-c498-4ee8-8441-ac7949af098d"
      },
      "execution_count": 7,
      "outputs": [
        {
          "output_type": "stream",
          "name": "stdout",
          "text": [
            "Characters: ['Elara', 'Elara', 'Elara', 'Elara', 'Elara', 'Elara', 'Elara', 'Legend', 'Elara', 'Elara', 'Elara']\n"
          ]
        }
      ]
    },
    {
      "cell_type": "code",
      "source": [
        "character_freq = FreqDist(characters)\n",
        "print(f\"Character Frequency: {character_freq}\")\n"
      ],
      "metadata": {
        "colab": {
          "base_uri": "https://localhost:8080/"
        },
        "id": "O7NWxjUNxeap",
        "outputId": "528a5d00-e6e3-4f59-a07a-5e92a8efefc4"
      },
      "execution_count": 8,
      "outputs": [
        {
          "output_type": "stream",
          "name": "stdout",
          "text": [
            "Character Frequency: <FreqDist with 2 samples and 11 outcomes>\n"
          ]
        }
      ]
    },
    {
      "cell_type": "code",
      "source": [
        "# Find the main character\n",
        "main_character = character_freq.most_common(1)[0][0]\n",
        "print(f\"Main character: {main_character}\")"
      ],
      "metadata": {
        "colab": {
          "base_uri": "https://localhost:8080/"
        },
        "id": "mMNY5Y-KxiTT",
        "outputId": "e5d984bf-acbf-4200-d770-dd1f91246a57"
      },
      "execution_count": 10,
      "outputs": [
        {
          "output_type": "stream",
          "name": "stdout",
          "text": [
            "Main character: Elara\n"
          ]
        }
      ]
    }
  ]
}